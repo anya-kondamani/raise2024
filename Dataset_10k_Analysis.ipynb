{
 "cells": [
  {
   "cell_type": "code",
   "execution_count": null,
   "id": "07bfae63",
   "metadata": {},
   "outputs": [],
   "source": [
    "'''\n",
    "This analysis is performed using Dataset_10k.csv provided Rutgers Bloustein MPI for competition use. \n",
    "Below are column names and their corresponding significance.\n",
    "1. title: The headline of the news article.\n",
    "2. link: The URL linking to the full news article.\n",
    "3. date: Publication date of the article.\n",
    "4. source: The news outlet or platform where the article was published.\n",
    "5. country: The country where the news source is based.\n",
    "6. language: The language in which the article is written.\n",
    "7. translated_title: The title translated into English (if the original is in a different language).\n",
    "8. number_of_characters_title: The total character count in the title.\n",
    "9. number_of_words_title: The total word count in the title.\n",
    "10. day_of_week: The day of the week on which the article was published.\n",
    "11. month: The month of publication.\n",
    "12. year: The year of publication.\n",
    "13. quarter: The quarter of the year in which the article was published.\n",
    "14. is_weekend: A boolean indicating if the article was published on a weekend.\n",
    "15. is_holiday: A boolean indicating if the article was published on a public holiday.\n",
    "16. source_type: The type of source (e.g., newspaper, online portal, blog).\n",
    "17. final_redirected_URL: The final URL after any redirections.\n",
    "18. domain_of_URL: The domain name of the website.\n",
    "19. subdomain_of_URL: The subdomain portion of the website URL, if any.\n",
    "20. URL_depth: The depth of the URL measured in the number of slashes.\n",
    "21. top_level_domain: The top-level domain (e.g., .com, .org) of the website.\n",
    "22. url_length: The length of the URL measured in characters.\n",
    "23. author: The name of the author of the article.\n",
    "'''\n",
    "import pandas as pd\n",
    "import numpy as np\n",
    "\n",
    "data = pd.read_csv(\"Dataset_10k.csv\")\n",
    "\n",
    "#Let's break down this data to perform some sentiment analysis.\n",
    "'''\n",
    "To preface, all this data is from the US and published in 2023. \n",
    "We are filtering by different values such as languages and days of the week to observe some patterns. \n",
    "'''\n",
    "english_data = data[data[\"language\"]=='en']\n",
    "korean_data = data[data[\"language\"]=='ko']\n",
    "japanese_data = data[data[\"language\"]=='ja']\n",
    "spanish_data = data[data[\"language\"]=='es']\n",
    "french_data = data[data[\"language\"]=='fr']\n",
    "indonesian_data = data[data[\"language\"]=='id']\n",
    "german_data = data[data[\"language\"]=='de']\n",
    "vietnamese_data = data[data[\"language\"]=='vi']\n",
    "portuguese_data = data[data[\"language\"]=='pt']\n",
    "italian_data = data[data[\"language\"]=='it']\n",
    "dutch_data = data[data[\"language\"]=='nl']\n",
    "polish_data = data[data[\"language\"]=='pl']"
   ]
  },
  {
   "cell_type": "code",
   "execution_count": null,
   "id": "8ab7d8ae",
   "metadata": {},
   "outputs": [],
   "source": [
    "languages = data[\"language\"]\n",
    "language_counts = languages.value_counts()\n",
    "#print(language_counts)\n",
    "day_of_week = data[\"day_of_week\"]\n",
    "day_counts = day_of_week.value_counts()\n",
    "#print(day_counts)\n",
    "source_type = data[\"source_type\"]\n",
    "source_counts = source_type.value_counts()\n",
    "#print(source_counts)"
   ]
  },
  {
   "cell_type": "code",
   "execution_count": null,
   "id": "ce82bde6",
   "metadata": {},
   "outputs": [],
   "source": [
    "from collections import Counter\n",
    "import re\n",
    "'''Currently working with ONLY English data for efficiency.'''\n",
    "titles = english_data[\"title\"].astype(str)\n",
    "all_titles_text = ' '.join(titles)\n",
    "clean_text = re.sub(r'[^a-zA-Z\\s]', '', all_titles_text).lower()\n",
    "words = clean_text.split()\n",
    "word_frequencies = Counter(words)\n",
    "words_df = pd.DataFrame(list(word_frequencies.items()), columns=['Word','Frequency'])\n",
    "words_df = words_df.sort_values(by='Frequency', ascending=False)\n",
    "words_to_remove = ['the','and','a','to','of','in','for','is','with','on']\n",
    "words_df = words_df[~words_df['Word'].isin(words_to_remove)]\n",
    "print(words_df)"
   ]
  },
  {
   "cell_type": "code",
   "execution_count": null,
   "id": "acd4abcf",
   "metadata": {},
   "outputs": [],
   "source": []
  }
 ],
 "metadata": {
  "kernelspec": {
   "display_name": "Python 3 (ipykernel)",
   "language": "python",
   "name": "python3"
  },
  "language_info": {
   "codemirror_mode": {
    "name": "ipython",
    "version": 3
   },
   "file_extension": ".py",
   "mimetype": "text/x-python",
   "name": "python",
   "nbconvert_exporter": "python",
   "pygments_lexer": "ipython3",
   "version": "3.11.5"
  }
 },
 "nbformat": 4,
 "nbformat_minor": 5
}
